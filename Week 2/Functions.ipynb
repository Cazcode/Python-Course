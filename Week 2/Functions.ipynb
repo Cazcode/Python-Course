{
 "cells": [
  {
   "cell_type": "markdown",
   "metadata": {},
   "source": [
    "# Functions\n",
    "\n",
    "<code>\n",
    "    function name_function:\n",
    "        execute this block\n",
    "    \n",
    "    function name_function(param):\n",
    "        execute this block with param\n",
    "\n",
    "</code>\n"
   ]
  },
  {
   "cell_type": "code",
   "execution_count": 1,
   "metadata": {},
   "outputs": [],
   "source": [
    "def function1():\n",
    "    print('Hello')\n",
    "\n",
    "def function2(text):\n",
    "    print(text)"
   ]
  },
  {
   "cell_type": "code",
   "execution_count": 2,
   "metadata": {},
   "outputs": [
    {
     "name": "stdout",
     "output_type": "stream",
     "text": [
      "Hello\n",
      "Hello\n"
     ]
    }
   ],
   "source": [
    "function1()\n",
    "function2('Hello')"
   ]
  },
  {
   "cell_type": "code",
   "execution_count": 3,
   "metadata": {},
   "outputs": [],
   "source": [
    "def show_args(*args): # Optional params\n",
    "    for a in args:\n",
    "        print(a)"
   ]
  },
  {
   "cell_type": "code",
   "execution_count": 4,
   "metadata": {},
   "outputs": [
    {
     "name": "stdout",
     "output_type": "stream",
     "text": [
      "Hello\n",
      "World\n",
      "since\n",
      "1996\n"
     ]
    }
   ],
   "source": [
    "show_args(\"Hello\", \"World\", \"since\",\"1996\")"
   ]
  },
  {
   "cell_type": "code",
   "execution_count": 5,
   "metadata": {},
   "outputs": [],
   "source": [
    "def show_kwargs(**kwargs): # Optional key:params\n",
    "    print(kwargs)\n",
    "    \n",
    "    if kwargs.keys():\n",
    "        for k in kwargs.keys():\n",
    "            print(f'Key is: {k} and value is: {kwargs[k]}')\n",
    "        \n",
    "        "
   ]
  },
  {
   "cell_type": "code",
   "execution_count": 6,
   "metadata": {},
   "outputs": [
    {
     "name": "stdout",
     "output_type": "stream",
     "text": [
      "{'action': 'plot', 'argument': 'min', 'mat': True, 'color': 'grey'}\n",
      "Key is: action and value is: plot\n",
      "Key is: argument and value is: min\n",
      "Key is: mat and value is: True\n",
      "Key is: color and value is: grey\n"
     ]
    }
   ],
   "source": [
    "show_kwargs(action=\"plot\",argument=\"min\", mat=True, color=\"grey\" )"
   ]
  },
  {
   "cell_type": "code",
   "execution_count": null,
   "metadata": {},
   "outputs": [],
   "source": []
  }
 ],
 "metadata": {
  "kernelspec": {
   "display_name": "Python 3",
   "language": "python",
   "name": "python3"
  },
  "language_info": {
   "codemirror_mode": {
    "name": "ipython",
    "version": 3
   },
   "file_extension": ".py",
   "mimetype": "text/x-python",
   "name": "python",
   "nbconvert_exporter": "python",
   "pygments_lexer": "ipython3",
   "version": "3.7.4"
  }
 },
 "nbformat": 4,
 "nbformat_minor": 2
}
